{
 "cells": [
  {
   "cell_type": "code",
   "execution_count": null,
   "metadata": {},
   "outputs": [],
   "source": [
    "# Input Variables\n",
    "searchterm = '9999999'\n",
    "date_greater_than = '20210609'\n",
    "date_less_than = '202106011'"
   ]
  },
  {
   "cell_type": "markdown",
   "metadata": {},
   "source": [
    "Create output file in same location as code"
   ]
  },
  {
   "cell_type": "code",
   "execution_count": null,
   "metadata": {},
   "outputs": [],
   "source": [
    "#import libraries\n",
    "import os\n",
    "import datetime\n",
    "\n",
    "# Make dates numbers\n",
    "date_greater_than=int(date_greater_than)\n",
    "date_less_than = int(date_less_than)\n",
    "\n",
    "# Create Output file (causes permission errors)\n",
    "\n",
    "outputfilename = 'OUTPUT-'\n",
    "datetime_str = str(datetime.datetime.now())\n",
    "datetime_str = datetime_str.replace('.', '_')\n",
    "datetime_str = datetime_str.replace(':', '-')\n",
    "filetype = '.md'\n",
    "outputfilename = outputfilename + datetime_str + filetype\n",
    "outputfilename = str(outputfilename)\n",
    "out_file = open(outputfilename, 'x')\n",
    "out_file.writelines('# HL7 Search Results' + '\\n')\n",
    "out_file.close()\n",
    "\n",
    "\n",
    "path = r'\\\\whsrhaparch1\\RhapsodyHL7FileLogs_Prod\\MasterLog'\n",
    "os.chdir(path)\n",
    "files = os.listdir()\n",
    "folders = list(filter(lambda x: not x.endswith('zip'), files))\n",
    "\n",
    "# Filter folders for date greater than this number\n",
    "filtered_folders = []\n",
    "\n",
    "for item in folders:\n",
    "    folder_date = item[0:8]\n",
    "    folder_date = int(folder_date)\n",
    "    if ((folder_date > date_greater_than) and (folder_date < date_less_than)):\n",
    "        filtered_folders.append(item)\n",
    "\n",
    "string = '# HL7 Results'\n",
    "print('# HL7 Search Results')\n",
    "for afolder in filtered_folders:\n",
    "    path2 = os.path.join(path, afolder)\n",
    "    files2 = os.listdir(path2)\n",
    "    for afile in files2:\n",
    "        filepath = os.path.join(path2, afile)\n",
    "        with open(filepath, 'r') as f:\n",
    "            read_data = f.read()\n",
    "            hl7_list = read_data.split('======')\n",
    "            for hl7message in hl7_list:\n",
    "                if searchterm in hl7message:\n",
    "                    #print('## ', filepath)\n",
    "                    #print(hl7message)              \n",
    "                    # Below Has Permission Errors\n",
    "                    \n",
    "                    out_file = open(outputfilename, 'w')\n",
    "                    out_file.writelines('##' + filepath + '\\n')\n",
    "                    out_file.writelines( hl7message + '\\n')\n",
    "                    print('wrote HL7 message to file')\n",
    "                    out_file.close()"
   ]
  }
 ],
 "metadata": {
  "language_info": {
   "name": "python"
  },
  "orig_nbformat": 4
 },
 "nbformat": 4,
 "nbformat_minor": 2
}
